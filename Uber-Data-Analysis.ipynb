{
 "cells": [
  {
   "cell_type": "code",
   "execution_count": 1,
   "id": "d916539f",
   "metadata": {},
   "outputs": [],
   "source": [
    "import io\n",
    "import pandas as pd\n",
    "import requests"
   ]
  },
  {
   "cell_type": "code",
   "execution_count": 2,
   "id": "a704743f",
   "metadata": {},
   "outputs": [],
   "source": [
    "url = 'https://storage.googleapis.com/uber-data-engineering-project/uber_data.csv'\n",
    "response = requests.get(url)"
   ]
  },
  {
   "cell_type": "code",
   "execution_count": 3,
   "id": "c24ba327",
   "metadata": {},
   "outputs": [],
   "source": [
    "df = pd.read_csv(io.StringIO(response.text), sep=',')"
   ]
  },
  {
   "cell_type": "code",
   "execution_count": 4,
   "id": "3b62186a",
   "metadata": {},
   "outputs": [],
   "source": [
    "# Convert object to datetime format\n",
    "df['tpep_pickup_datetime'] = pd.to_datetime(df['tpep_pickup_datetime'])\n",
    "df['tpep_dropoff_datetime'] = pd.to_datetime(df['tpep_dropoff_datetime'])"
   ]
  },
  {
   "cell_type": "code",
   "execution_count": 5,
   "id": "1ae42a17",
   "metadata": {},
   "outputs": [],
   "source": [
    "# Remove duplicates and fix index\n",
    "df[['tpep_pickup_datetime','tpep_dropoff_datetime']].drop_duplicates().reset_index(drop=True)\n",
    "df['trip_id'] = df.index"
   ]
  },
  {
   "cell_type": "code",
   "execution_count": 6,
   "id": "2c79ae26",
   "metadata": {},
   "outputs": [],
   "source": [
    "# Convert object to datetime format\n",
    "df['tpep_pickup_datetime'] = pd.to_datetime(df['tpep_pickup_datetime'])\n",
    "df['tpep_dropoff_datetime'] = pd.to_datetime(df['tpep_dropoff_datetime'])"
   ]
  },
  {
   "cell_type": "code",
   "execution_count": 7,
   "id": "6f9cb689",
   "metadata": {},
   "outputs": [
    {
     "name": "stdout",
     "output_type": "stream",
     "text": [
      "<class 'pandas.core.frame.DataFrame'>\n",
      "RangeIndex: 100000 entries, 0 to 99999\n",
      "Data columns (total 20 columns):\n",
      " #   Column                 Non-Null Count   Dtype         \n",
      "---  ------                 --------------   -----         \n",
      " 0   VendorID               100000 non-null  int64         \n",
      " 1   tpep_pickup_datetime   100000 non-null  datetime64[ns]\n",
      " 2   tpep_dropoff_datetime  100000 non-null  datetime64[ns]\n",
      " 3   passenger_count        100000 non-null  int64         \n",
      " 4   trip_distance          100000 non-null  float64       \n",
      " 5   pickup_longitude       100000 non-null  float64       \n",
      " 6   pickup_latitude        100000 non-null  float64       \n",
      " 7   RatecodeID             100000 non-null  int64         \n",
      " 8   store_and_fwd_flag     100000 non-null  object        \n",
      " 9   dropoff_longitude      100000 non-null  float64       \n",
      " 10  dropoff_latitude       100000 non-null  float64       \n",
      " 11  payment_type           100000 non-null  int64         \n",
      " 12  fare_amount            100000 non-null  float64       \n",
      " 13  extra                  100000 non-null  float64       \n",
      " 14  mta_tax                100000 non-null  float64       \n",
      " 15  tip_amount             100000 non-null  float64       \n",
      " 16  tolls_amount           100000 non-null  float64       \n",
      " 17  improvement_surcharge  100000 non-null  float64       \n",
      " 18  total_amount           100000 non-null  float64       \n",
      " 19  trip_id                100000 non-null  int64         \n",
      "dtypes: datetime64[ns](2), float64(12), int64(5), object(1)\n",
      "memory usage: 15.3+ MB\n"
     ]
    }
   ],
   "source": [
    "# Check updated Dtype\n",
    "df.info()"
   ]
  },
  {
   "cell_type": "code",
   "execution_count": 8,
   "id": "ecdeff15",
   "metadata": {},
   "outputs": [],
   "source": [
    "# Assigning pick up and drop off time while reseting index\n",
    "datetime_dim = df[['tpep_pickup_datetime','tpep_dropoff_datetime']].reset_index(drop=True)\n",
    "\n",
    "# Assigning extracted pickup values to columns in datetime_dim \n",
    "datetime_dim['pickup_hour'] = datetime_dim['tpep_pickup_datetime'].dt.hour\n",
    "datetime_dim['pickup_day'] = datetime_dim['tpep_pickup_datetime'].dt.day\n",
    "datetime_dim['pickup_month'] = datetime_dim['tpep_pickup_datetime'].dt.month\n",
    "datetime_dim['pickup_year'] = datetime_dim['tpep_pickup_datetime'].dt.year\n",
    "datetime_dim['pickup_weekday'] = datetime_dim['tpep_pickup_datetime'].dt.weekday\n",
    "\n",
    "# Assigning extracted dropoff values to columns in datetime_dim \n",
    "datetime_dim['dropoff_hour'] = datetime_dim['tpep_dropoff_datetime'].dt.hour\n",
    "datetime_dim['dropoff_day'] = datetime_dim['tpep_dropoff_datetime'].dt.day\n",
    "datetime_dim['dropoff_month'] = datetime_dim['tpep_dropoff_datetime'].dt.month\n",
    "datetime_dim['dropoff_year'] = datetime_dim['tpep_dropoff_datetime'].dt.year\n",
    "datetime_dim['dropoff_weekday'] = datetime_dim['tpep_dropoff_datetime'].dt.weekday"
   ]
  },
  {
   "cell_type": "code",
   "execution_count": 9,
   "id": "90b70ad6",
   "metadata": {},
   "outputs": [],
   "source": [
    "# Assigning index to a column in datetime_dim\n",
    "datetime_dim['datetime_id'] = datetime_dim.index"
   ]
  },
  {
   "cell_type": "code",
   "execution_count": 10,
   "id": "e7713ac4",
   "metadata": {},
   "outputs": [],
   "source": [
    "# Re-arrange columns to proper order by putting datetime_id first\n",
    "datetime_dim = datetime_dim[['datetime_id', 'tpep_pickup_datetime', 'pickup_hour', 'pickup_day', 'pickup_month', 'pickup_year', 'pickup_weekday',\n",
    "                             'tpep_dropoff_datetime', 'dropoff_hour', 'dropoff_day', 'dropoff_month', 'dropoff_year', 'dropoff_weekday']]"
   ]
  },
  {
   "cell_type": "code",
   "execution_count": 11,
   "id": "3dcb6ed4",
   "metadata": {},
   "outputs": [],
   "source": [
    "# Assigning extracted passenger values to columns in passenger_count_dim\n",
    "passenger_count_dim = df[['passenger_count']].reset_index(drop=True)\n",
    "passenger_count_dim['passenger_count_id'] = passenger_count_dim.index\n",
    "passenger_count_dim = passenger_count_dim[['passenger_count_id','passenger_count']]\n",
    "\n",
    "# Assigning extracted trip distance values to columns in trip_distance_dim\n",
    "trip_distance_dim = df[['trip_distance']].reset_index(drop=True)\n",
    "trip_distance_dim['trip_distance_id'] = trip_distance_dim.index\n",
    "trip_distance_dim = trip_distance_dim[['trip_distance_id','trip_distance']]\n"
   ]
  },
  {
   "cell_type": "code",
   "execution_count": 12,
   "id": "b7101136",
   "metadata": {},
   "outputs": [],
   "source": [
    "# Assgining rate codes to columns in rate_code_dim\n",
    "rate_code_type = {\n",
    "    1:\"Standard rate\",\n",
    "    2:\"JFK\",\n",
    "    3:\"Newark\",\n",
    "    4:\"Nassau or Westchester\",\n",
    "    5:\"Negotiated fare\",\n",
    "    6:\"Group ride\"\n",
    "}\n",
    "\n",
    "rate_code_dim = df[['RatecodeID']].drop_duplicates().reset_index(drop=True)\n",
    "rate_code_dim['rate_code_id'] = rate_code_dim.index\n",
    "rate_code_dim['rate_code_name'] = rate_code_dim['RatecodeID'].map(rate_code_type)\n",
    "rate_code_dim = rate_code_dim[['rate_code_id','RatecodeID','rate_code_name']]"
   ]
  },
  {
   "cell_type": "code",
   "execution_count": 13,
   "id": "eacbc770",
   "metadata": {},
   "outputs": [],
   "source": [
    "# Assigning pickup and dropoff location values to both pickup_location_dim and dropoff_location_dim\n",
    "pickup_location_dim = df[['pickup_longitude','pickup_latitude']].drop_duplicates().reset_index(drop=True)\n",
    "pickup_location_dim['pickup_location_id'] = pickup_location_dim.index\n",
    "pickup_location_dim = pickup_location_dim[['pickup_location_id','pickup_latitude','pickup_longitude']]\n",
    "\n",
    "dropoff_location_dim = df[['dropoff_longitude','dropoff_latitude']].drop_duplicates().reset_index(drop=True)\n",
    "dropoff_location_dim['dropoff_location_id'] = dropoff_location_dim.index\n",
    "dropoff_location_dim = dropoff_location_dim[['dropoff_location_id','dropoff_latitude','dropoff_longitude']]"
   ]
  },
  {
   "cell_type": "code",
   "execution_count": 14,
   "id": "1054e9ae",
   "metadata": {
    "scrolled": true
   },
   "outputs": [],
   "source": [
    "# Assgining payment types to columns in payment_type_dim\n",
    "payment_type_name = {\n",
    "    1: \"Credit card\",\n",
    "    2: \"Cash\",\n",
    "    3: \"No charge\",\n",
    "    4: \"Dispute\",\n",
    "    5: \"Unknown\",\n",
    "    6: \"Voided trip\"\n",
    "}\n",
    "\n",
    "payment_type_dim = df[['payment_type']].drop_duplicates().reset_index(drop=True)\n",
    "payment_type_dim['payment_type_id'] = payment_type_dim.index\n",
    "payment_type_dim['payment_type_name'] = payment_type_dim['payment_type'].map(payment_type_name)\n",
    "payment_type_dim = payment_type_dim[['payment_type_id','payment_type','payment_type_name']]"
   ]
  },
  {
   "cell_type": "code",
   "execution_count": null,
   "id": "9431353c",
   "metadata": {},
   "outputs": [],
   "source": [
    "# Merging dimension tables to fact table\n",
    "fact_table = df.merge(passenger_count_dim, on='passenger_count') \\\n",
    "             .merge(trip_distance_dim, on='trip_distance') \\\n",
    "             .merge(rate_code_dim, on='RatecodeID') \\\n",
    "             .merge(pickup_location_dim, on=['pickup_longitude', 'pickup_latitude']) \\\n",
    "             .merge(dropoff_location_dim, on=['dropoff_longitude', 'dropoff_latitude']) \\\n",
    "             .merge(date_time_dim, on=['tpep_pickup_datetime', 'tpep_dropoff_datetime']) \\\n",
    "             .merge(payment_type_dim, on='payment_type') \\\n",
    "             [['Vendor ID', 'datetime_id', 'passenger_count_id', 'trip_distance_id', 'rate_code_id'\n",
    "               'store_and_fwd_flag', 'pickup_location_id', 'dropoff_location_id', 'payment_type_id',\n",
    "               'fare_amount', 'extra', 'mta_tax', 'tip_amount', 'tolls_amount', 'improvement_surcharge',\n",
    "               'total_amount']]"
   ]
  },
  {
   "cell_type": "code",
   "execution_count": null,
   "id": "907c7917",
   "metadata": {},
   "outputs": [],
   "source": []
  }
 ],
 "metadata": {
  "kernelspec": {
   "display_name": "Python 3 (ipykernel)",
   "language": "python",
   "name": "python3"
  },
  "language_info": {
   "codemirror_mode": {
    "name": "ipython",
    "version": 3
   },
   "file_extension": ".py",
   "mimetype": "text/x-python",
   "name": "python",
   "nbconvert_exporter": "python",
   "pygments_lexer": "ipython3",
   "version": "3.11.3"
  }
 },
 "nbformat": 4,
 "nbformat_minor": 5
}
